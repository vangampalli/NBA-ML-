{
 "cells": [
  {
   "cell_type": "code",
   "execution_count": 8,
   "id": "9befba9d",
   "metadata": {},
   "outputs": [
    {
     "name": "stdout",
     "output_type": "stream",
     "text": [
      "           id            full_name first_name     last_name  is_active\n",
      "0       76001       Alaa Abdelnaby       Alaa     Abdelnaby          0\n",
      "1       76002      Zaid Abdul-Aziz       Zaid    Abdul-Aziz          0\n",
      "2       76003  Kareem Abdul-Jabbar     Kareem  Abdul-Jabbar          0\n",
      "3          51   Mahmoud Abdul-Rauf    Mahmoud    Abdul-Rauf          0\n",
      "4        1505    Tariq Abdul-Wahad      Tariq   Abdul-Wahad          0\n",
      "...       ...                  ...        ...           ...        ...\n",
      "4496  1627790           Ante Zizic       Ante         Zizic          1\n",
      "4497    78647             Jim Zoet        Jim          Zoet          0\n",
      "4498    78648            Bill Zopf       Bill          Zopf          0\n",
      "4499  1627826          Ivica Zubac      Ivica         Zubac          1\n",
      "4500    78650           Matt Zunic       Matt         Zunic          0\n",
      "\n",
      "[4501 rows x 5 columns]\n"
     ]
    }
   ],
   "source": [
    "import pandas as pd\n",
    "import sqlite3\n",
    "\n",
    "con = sqlite3.connect(\"basketball.sqlite\")\n",
    "\n",
    "df = pd.read_sql_query('SELECT * FROM Player', con)\n",
    "print(df)"
   ]
  },
  {
   "cell_type": "code",
   "execution_count": 4,
   "id": "ac80e85b",
   "metadata": {},
   "outputs": [
    {
     "name": "stdout",
     "output_type": "stream",
     "text": [
      "             game_id   game_date  OT H_A Team_Abbrev  Team_Score  Team_pace  \\\n",
      "0       202204100BRK  2022-04-10   0   A         IND         126      103.9   \n",
      "1       202204100BRK  2022-04-10   0   A         IND         126      103.9   \n",
      "2       202204100BRK  2022-04-10   0   A         IND         126      103.9   \n",
      "3       202204100BRK  2022-04-10   0   A         IND         126      103.9   \n",
      "4       202204100BRK  2022-04-10   0   A         IND         126      103.9   \n",
      "...              ...         ...  ..  ..         ...         ...        ...   \n",
      "121102  202003070GSW  2020-03-07   0   H         GSW         118       90.9   \n",
      "121103  202003070GSW  2020-03-07   0   H         GSW         118       90.9   \n",
      "121104  202003070GSW  2020-03-07   0   H         GSW         118       90.9   \n",
      "121105  202003070GSW  2020-03-07   0   H         GSW         118       90.9   \n",
      "121106  202003070GSW  2020-03-07   0   H         GSW         118       90.9   \n",
      "\n",
      "        Team_efg_pct  Team_tov_pct  Team_orb_pct  ...  pf_per_minute     ts  \\\n",
      "0              0.543           5.9          20.8  ...       0.000000  14.44   \n",
      "1              0.543           5.9          20.8  ...       0.083604  23.00   \n",
      "2              0.543           5.9          20.8  ...       0.139730  21.76   \n",
      "3              0.543           5.9          20.8  ...       0.156169   4.88   \n",
      "4              0.543           5.9          20.8  ...       0.097192  15.88   \n",
      "...              ...           ...           ...  ...            ...    ...   \n",
      "121102         0.606           7.0          18.9  ...       0.107914  13.08   \n",
      "121103         0.606           7.0          18.9  ...       0.036079   6.00   \n",
      "121104         0.606           7.0          18.9  ...       0.150943   4.00   \n",
      "121105         0.606           7.0          18.9  ...       0.094340  12.64   \n",
      "121106         0.606           7.0          18.9  ...       0.000000   2.76   \n",
      "\n",
      "       last_60_minutes_per_game_starting last_60_minutes_per_game_bench  \\\n",
      "0                              36.176282                      19.535428   \n",
      "1                              35.833974                      19.350580   \n",
      "2                              30.988194                      16.733827   \n",
      "3                              22.514103                      14.625000   \n",
      "4                              25.350000                      15.166667   \n",
      "...                                  ...                            ...   \n",
      "121102                         33.110667                      19.232562   \n",
      "121103                         25.470833                      20.228571   \n",
      "121104                         24.083333                      13.228788   \n",
      "121105                         34.783333                      27.691667   \n",
      "121106                         10.415645                       6.050000   \n",
      "\n",
      "          PG%   SG%   SF%   PF%    C%  active_position_minutes  \n",
      "0        62.0  35.0   4.0   0.0   0.0                64.741860  \n",
      "1         4.0  53.0  43.0   1.0   0.0                56.265965  \n",
      "2         0.0   0.0  20.0  75.0   5.0                44.631041  \n",
      "3         0.0   0.0   0.0  24.0  76.0                53.345389  \n",
      "4       100.0   0.0   0.0   0.0   0.0                68.220319  \n",
      "...       ...   ...   ...   ...   ...                      ...  \n",
      "121102    0.0   2.0  77.0  21.0   0.0                57.207786  \n",
      "121103    5.0  45.0  43.0   7.0   0.0                58.202391  \n",
      "121104    0.0   0.0   0.0   9.0  91.0                49.630640  \n",
      "121105    0.0  44.0  48.0   8.0   0.0                58.923515  \n",
      "121106   81.0  19.0   0.0   0.0   0.0                45.958787  \n",
      "\n",
      "[121107 rows x 81 columns]\n"
     ]
    },
    {
     "name": "stderr",
     "output_type": "stream",
     "text": [
      "C:\\Users\\rhoan\\AppData\\Local\\Temp\\ipykernel_14480\\3332296696.py:1: DtypeWarning: Columns (68,69,70) have mixed types. Specify dtype option on import or set low_memory=False.\n",
      "  df = pd.read_csv('ASA All NBA Raw Data.csv')\n"
     ]
    }
   ],
   "source": [
    "df = pd.read_csv('ASA All NBA Raw Data.csv')\n",
    "print(df)"
   ]
  },
  {
   "cell_type": "code",
   "execution_count": null,
   "id": "feaa7877",
   "metadata": {},
   "outputs": [],
   "source": []
  }
 ],
 "metadata": {
  "kernelspec": {
   "display_name": "Python 3 (ipykernel)",
   "language": "python",
   "name": "python3"
  },
  "language_info": {
   "codemirror_mode": {
    "name": "ipython",
    "version": 3
   },
   "file_extension": ".py",
   "mimetype": "text/x-python",
   "name": "python",
   "nbconvert_exporter": "python",
   "pygments_lexer": "ipython3",
   "version": "3.9.12"
  }
 },
 "nbformat": 4,
 "nbformat_minor": 5
}
