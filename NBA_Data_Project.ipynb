{
 "cells": [
  {
   "cell_type": "code",
   "execution_count": 1,
   "id": "0dc64d2a",
   "metadata": {
    "scrolled": true
   },
   "outputs": [
    {
     "name": "stdout",
     "output_type": "stream",
     "text": [
      "          GAME_ID   GAME_DATE           TEAM_NAME_HOME       TEAM_NAME_AWAY  \\\n",
      "0      0024600001  1946-11-01          Toronto Huskies      New York Knicks   \n",
      "1      0024600003  1946-11-02        St. Louis Bombers   Pittsburgh Ironmen   \n",
      "2      0024600004  1946-11-02            Chicago Stags      New York Knicks   \n",
      "3      0024600002  1946-11-02  Providence Steamrollers       Boston Celtics   \n",
      "4      0024600005  1946-11-02          Detroit Falcons  Washington Capitols   \n",
      "...           ...         ...                      ...                  ...   \n",
      "62443  0022001076  2021-05-16   Portland Trail Blazers       Denver Nuggets   \n",
      "62444  0022001071  2021-05-16   Minnesota Timberwolves     Dallas Mavericks   \n",
      "62445  0022001068  2021-05-16            Chicago Bulls      Milwaukee Bucks   \n",
      "62446  0022001072  2021-05-16     New Orleans Pelicans   Los Angeles Lakers   \n",
      "62447  0022001077  2021-05-16         Sacramento Kings            Utah Jazz   \n",
      "\n",
      "       PTS_HOME  PTS_AWAY  \n",
      "0            66        68  \n",
      "1            56        51  \n",
      "2            63        47  \n",
      "3            59        53  \n",
      "4            33        50  \n",
      "...         ...       ...  \n",
      "62443       132       116  \n",
      "62444       136       121  \n",
      "62445       118       112  \n",
      "62446        98       110  \n",
      "62447        99       121  \n",
      "\n",
      "[62448 rows x 6 columns]\n"
     ]
    }
   ],
   "source": [
    "import pandas as pd\n",
    "import sqlite3\n",
    "\n",
    "con = sqlite3.connect(\"basketball_teams.sqlite\")\n",
    "\n",
    "games = pd.read_sql_query('SELECT * FROM game', con)\n",
    "\n",
    "cleaner_games = games[['GAME_ID', 'GAME_DATE', 'TEAM_NAME_HOME', 'TEAM_NAME_AWAY', 'PTS_HOME', 'PTS_AWAY']]\n",
    "print(cleaner_games)"
   ]
  },
  {
   "cell_type": "code",
   "execution_count": 4,
   "id": "4d7b6a88",
   "metadata": {},
   "outputs": [
    {
     "ename": "ModuleNotFoundError",
     "evalue": "No module named 'basketball_reference_web_scraper'",
     "output_type": "error",
     "traceback": [
      "\u001b[1;31m---------------------------------------------------------------------------\u001b[0m",
      "\u001b[1;31mModuleNotFoundError\u001b[0m                       Traceback (most recent call last)",
      "Input \u001b[1;32mIn [4]\u001b[0m, in \u001b[0;36m<cell line: 1>\u001b[1;34m()\u001b[0m\n\u001b[1;32m----> 1\u001b[0m \u001b[38;5;28;01mfrom\u001b[39;00m \u001b[38;5;21;01mbasketball_reference_web_scraper\u001b[39;00m \u001b[38;5;28;01mimport\u001b[39;00m client\n\u001b[0;32m      2\u001b[0m \u001b[38;5;28;01mfrom\u001b[39;00m \u001b[38;5;21;01mbasketball_reference_web_scraper\u001b[39;00m\u001b[38;5;21;01m.\u001b[39;00m\u001b[38;5;21;01mdata\u001b[39;00m \u001b[38;5;28;01mimport\u001b[39;00m Team\n\u001b[0;32m      4\u001b[0m client\u001b[38;5;241m.\u001b[39mplay_by_play(home_team\u001b[38;5;241m=\u001b[39mTeam\u001b[38;5;241m.\u001b[39mBOSTON_CELTICS, year\u001b[38;5;241m=\u001b[39m\u001b[38;5;241m2018\u001b[39m, month\u001b[38;5;241m=\u001b[39m\u001b[38;5;241m10\u001b[39m, day\u001b[38;5;241m=\u001b[39m\u001b[38;5;241m16\u001b[39m)\n",
      "\u001b[1;31mModuleNotFoundError\u001b[0m: No module named 'basketball_reference_web_scraper'"
     ]
    }
   ],
   "source": [
    "from basketball_reference_web_scraper import client\n",
    "from basketball_reference_web_scraper.data import Team\n",
    "\n",
    "client.play_by_play(home_team=Team.BOSTON_CELTICS, year=2018, month=10, day=16)"
   ]
  },
  {
   "cell_type": "code",
   "execution_count": null,
   "id": "4bcbaa8d",
   "metadata": {},
   "outputs": [],
   "source": []
  }
 ],
 "metadata": {
  "kernelspec": {
   "display_name": "Python 3 (ipykernel)",
   "language": "python",
   "name": "python3"
  },
  "language_info": {
   "codemirror_mode": {
    "name": "ipython",
    "version": 3
   },
   "file_extension": ".py",
   "mimetype": "text/x-python",
   "name": "python",
   "nbconvert_exporter": "python",
   "pygments_lexer": "ipython3",
   "version": "3.9.12"
  }
 },
 "nbformat": 4,
 "nbformat_minor": 5
}
